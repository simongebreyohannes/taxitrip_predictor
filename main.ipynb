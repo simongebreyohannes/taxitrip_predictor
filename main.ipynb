{
 "cells": [
  {
   "cell_type": "code",
   "execution_count": 1,
   "metadata": {},
   "outputs": [],
   "source": [
    "#Objective: predicting the trip duration accurately"
   ]
  },
  {
   "cell_type": "markdown",
   "metadata": {},
   "source": [
    "Extract data we've been given and divide into reasonable chunks"
   ]
  },
  {
   "cell_type": "code",
   "execution_count": 2,
   "metadata": {},
   "outputs": [],
   "source": [
    "import pandas as pd\n",
    "\n",
    "\n",
    "file_path = \"training_dataset/training_dataset.csv\"\n",
    "\n",
    "chunk_size = 50_000  \n",
    "\n",
    "chunks = []\n",
    "\n",
    "\n",
    "for chunk in pd.read_csv(file_path, chunksize=chunk_size):\n",
    "    chunks.append(chunk)\n",
    "\n",
    "data_frame = pd.concat(chunks, ignore_index=True)\n",
    "\n",
    "sample_size = 100000  \n",
    "sample_df = data_frame.sample(n=sample_size, random_state=42)  # Load 100000 random rows\n",
    "\n"
   ]
  },
  {
   "cell_type": "markdown",
   "metadata": {},
   "source": [
    "Process the data. Remove whatever that's uncessary and check for missing values. Either remove the missing or replace them. \n",
    "\n",
    "But first, check what we're missing and working with."
   ]
  },
  {
   "cell_type": "code",
   "execution_count": 3,
   "metadata": {},
   "outputs": [
    {
     "name": "stdout",
     "output_type": "stream",
     "text": [
      "Number of missing values are:  ID                          0\n",
      "vendorid                    0\n",
      "tpep_pickup_datetime        0\n",
      "tpep_dropoff_datetime       0\n",
      "passenger_count          9657\n",
      "trip_distance               0\n",
      "ratecodeid               9657\n",
      "store_and_fwd_flag       9657\n",
      "pulocationid                0\n",
      "dolocationid                0\n",
      "payment_type                0\n",
      "fare_amount                 0\n",
      "extra                       0\n",
      "mta_tax                     0\n",
      "tip_amount                  0\n",
      "tolls_amount                0\n",
      "improvement_surcharge       0\n",
      "total_amount                0\n",
      "congestion_surcharge     9657\n",
      "airport_fee              9657\n",
      "duration                    0\n",
      "dtype: int64\n",
      "-------------------------------------------------\n",
      "<class 'pandas.core.frame.DataFrame'>\n",
      "Index: 100000 entries, 12321871 to 14069328\n",
      "Data columns (total 21 columns):\n",
      " #   Column                 Non-Null Count   Dtype  \n",
      "---  ------                 --------------   -----  \n",
      " 0   ID                     100000 non-null  object \n",
      " 1   vendorid               100000 non-null  int64  \n",
      " 2   tpep_pickup_datetime   100000 non-null  object \n",
      " 3   tpep_dropoff_datetime  100000 non-null  object \n",
      " 4   passenger_count        90343 non-null   float64\n",
      " 5   trip_distance          100000 non-null  float64\n",
      " 6   ratecodeid             90343 non-null   float64\n",
      " 7   store_and_fwd_flag     90343 non-null   object \n",
      " 8   pulocationid           100000 non-null  int64  \n",
      " 9   dolocationid           100000 non-null  int64  \n",
      " 10  payment_type           100000 non-null  int64  \n",
      " 11  fare_amount            100000 non-null  float64\n",
      " 12  extra                  100000 non-null  float64\n",
      " 13  mta_tax                100000 non-null  float64\n",
      " 14  tip_amount             100000 non-null  float64\n",
      " 15  tolls_amount           100000 non-null  float64\n",
      " 16  improvement_surcharge  100000 non-null  float64\n",
      " 17  total_amount           100000 non-null  float64\n",
      " 18  congestion_surcharge   90343 non-null   float64\n",
      " 19  airport_fee            90343 non-null   float64\n",
      " 20  duration               100000 non-null  float64\n",
      "dtypes: float64(13), int64(4), object(4)\n",
      "memory usage: 16.8+ MB\n",
      "None\n",
      "           vendorid  passenger_count  trip_distance    ratecodeid  \\\n",
      "count  100000.00000     90343.000000  100000.000000  90343.000000   \n",
      "mean        1.76057         1.339661       5.853735      2.203967   \n",
      "std         0.42744         0.827091     390.969718     10.399769   \n",
      "min         1.00000         0.000000       0.000000      1.000000   \n",
      "25%         2.00000         1.000000       1.020000      1.000000   \n",
      "50%         2.00000         1.000000       1.770000      1.000000   \n",
      "75%         2.00000         1.000000       3.340000      1.000000   \n",
      "max         6.00000         7.000000   75612.480000     99.000000   \n",
      "\n",
      "        pulocationid   dolocationid   payment_type    fare_amount  \\\n",
      "count  100000.000000  100000.000000  100000.000000  100000.000000   \n",
      "mean      164.314030     163.653400       1.111110      19.167719   \n",
      "std        64.326908      69.654248       0.646783      18.699488   \n",
      "min         1.000000       1.000000       0.000000    -700.000000   \n",
      "25%       132.000000     113.000000       1.000000       9.300000   \n",
      "50%       161.000000     162.000000       1.000000      13.500000   \n",
      "75%       233.000000     234.000000       1.000000      21.900000   \n",
      "max       265.000000     265.000000       4.000000     433.000000   \n",
      "\n",
      "               extra        mta_tax     tip_amount   tolls_amount  \\\n",
      "count  100000.000000  100000.000000  100000.000000  100000.000000   \n",
      "mean        1.406167       0.479920       3.310929       0.563130   \n",
      "std         1.824894       0.128732       4.017970       2.188045   \n",
      "min        -7.500000      -0.500000      -3.020000     -22.320000   \n",
      "25%         0.000000       0.500000       0.000000       0.000000   \n",
      "50%         1.000000       0.500000       2.620000       0.000000   \n",
      "75%         2.500000       0.500000       4.240000       0.000000   \n",
      "max        11.750000       0.500000      90.000000      54.250000   \n",
      "\n",
      "       improvement_surcharge   total_amount  congestion_surcharge  \\\n",
      "count          100000.000000  100000.000000          90343.000000   \n",
      "mean                0.964596      27.751261              2.237196   \n",
      "std                 0.250930      23.501012              0.868005   \n",
      "min                -1.000000    -702.750000             -2.500000   \n",
      "25%                 1.000000      15.750000              2.500000   \n",
      "50%                 1.000000      21.000000              2.500000   \n",
      "75%                 1.000000      30.240000              2.500000   \n",
      "max                 1.000000     451.050000              2.500000   \n",
      "\n",
      "       airport_fee      duration  \n",
      "count  90343.00000  100000.00000  \n",
      "mean       0.14805    1041.94614  \n",
      "std        0.50242    2097.71420  \n",
      "min       -1.75000       0.00000  \n",
      "25%        0.00000     468.00000  \n",
      "50%        0.00000     777.00000  \n",
      "75%        0.00000    1254.00000  \n",
      "max        1.75000   86395.00000  \n"
     ]
    }
   ],
   "source": [
    "missing_values = sample_df.isnull().sum()\n",
    "print(\"Number of missing values are: \", missing_values) \n",
    "\n",
    "# Check for missing values\n",
    "# missing_values = data_frame.isnull().sum()\n",
    "# print(\"Number of missing values are: \", missing_values) \n",
    "\n",
    "print(\"-------------------------------------------------\")\n",
    "\n",
    "# Show summary statistics\n",
    "print(sample_df.info())\n",
    "print(sample_df.describe())"
   ]
  },
  {
   "cell_type": "markdown",
   "metadata": {},
   "source": [
    "We're missing a lot of data from these columns: \n",
    "\n",
    "1. passenger_count          3155336\n",
    "\n",
    "2. ratecodeid               3155336\n",
    "\n",
    "3. store_and_fwd_flag       3155336\n",
    "\n",
    "4. congestion_surcharge     3155336\n",
    "\n",
    "5. airport_fee              3155336\n"
   ]
  },
  {
   "cell_type": "markdown",
   "metadata": {},
   "source": [
    "The first four columns are useless for the objective at hand. We'll drop them. \n",
    "\n",
    "Whilst we're at it we will remove all other columns that are not useful."
   ]
  },
  {
   "cell_type": "code",
   "execution_count": 4,
   "metadata": {},
   "outputs": [],
   "source": [
    "# YOUR CODE HERE\n",
    "sample_df.drop(columns=[\"vendorid\", \"passenger_count\", \"vendorid\", \"ratecodeid\", \"pulocationid\", \"dolocationid\", \"payment_type\", \n",
    "                         \"extra\",\"mta_tax\",\"tip_amount\",\"tolls_amount\",\"improvement_surcharge\", \"congestion_surcharge\", \"airport_fee\", \"store_and_fwd_flag\"], inplace=True)\n",
    "sample_df.fillna(0, inplace=True)\n"
   ]
  },
  {
   "cell_type": "markdown",
   "metadata": {},
   "source": [
    "Missing values have been addressed as well as useless columns. Now, we'll process the data that is relevant. But first we need to look at what we're working with."
   ]
  },
  {
   "cell_type": "code",
   "execution_count": 5,
   "metadata": {},
   "outputs": [
    {
     "name": "stdout",
     "output_type": "stream",
     "text": [
      "<class 'pandas.core.frame.DataFrame'>\n",
      "Index: 100000 entries, 12321871 to 14069328\n",
      "Data columns (total 7 columns):\n",
      " #   Column                 Non-Null Count   Dtype  \n",
      "---  ------                 --------------   -----  \n",
      " 0   ID                     100000 non-null  object \n",
      " 1   tpep_pickup_datetime   100000 non-null  object \n",
      " 2   tpep_dropoff_datetime  100000 non-null  object \n",
      " 3   trip_distance          100000 non-null  float64\n",
      " 4   fare_amount            100000 non-null  float64\n",
      " 5   total_amount           100000 non-null  float64\n",
      " 6   duration               100000 non-null  float64\n",
      "dtypes: float64(4), object(3)\n",
      "memory usage: 6.1+ MB\n",
      "None\n",
      "       trip_distance    fare_amount   total_amount      duration\n",
      "count  100000.000000  100000.000000  100000.000000  100000.00000\n",
      "mean        5.853735      19.167719      27.751261    1041.94614\n",
      "std       390.969718      18.699488      23.501012    2097.71420\n",
      "min         0.000000    -700.000000    -702.750000       0.00000\n",
      "25%         1.020000       9.300000      15.750000     468.00000\n",
      "50%         1.770000      13.500000      21.000000     777.00000\n",
      "75%         3.340000      21.900000      30.240000    1254.00000\n",
      "max     75612.480000     433.000000     451.050000   86395.00000\n",
      "                                            ID tpep_pickup_datetime  \\\n",
      "12321871  841bbeab-b241-4b91-a7ae-393322281728  2024-03-15 15:36:15   \n",
      "9419701   1ae16cf3-55e8-4638-bea9-611749ce494b  2024-03-05 19:45:14   \n",
      "19686834  9dbb81c6-d48f-4761-aafb-ef05c279be54  2023-12-09 17:09:05   \n",
      "3049469   de9bebfb-6f47-4879-80a8-f9e67e2ebf68  2023-12-05 12:12:36   \n",
      "20375263  470c31f0-1400-4d40-9d8d-90c515272c5f  2024-05-10 22:23:00   \n",
      "\n",
      "         tpep_dropoff_datetime  trip_distance  fare_amount  total_amount  \\\n",
      "12321871   2024-03-15 15:57:06           2.25        18.40         26.88   \n",
      "9419701    2024-03-05 19:56:44           1.35        12.10         22.32   \n",
      "19686834   2023-12-09 17:24:54           1.08        14.20         21.84   \n",
      "3049469    2023-12-05 12:46:24           2.76        28.20         38.64   \n",
      "20375263   2024-05-10 22:43:00           5.87        27.43         28.93   \n",
      "\n",
      "          duration  \n",
      "12321871    1251.0  \n",
      "9419701      690.0  \n",
      "19686834     949.0  \n",
      "3049469     2028.0  \n",
      "20375263    1200.0  \n"
     ]
    }
   ],
   "source": [
    "print(sample_df.info())\n",
    "print(sample_df.describe())\n",
    "print(sample_df.head())"
   ]
  },
  {
   "cell_type": "markdown",
   "metadata": {},
   "source": [
    "We seem to have a some differences in what sort of data we're working with. Some Datetimes that have useful information; we need to extract that data and convert into numerical values."
   ]
  },
  {
   "cell_type": "code",
   "execution_count": 6,
   "metadata": {},
   "outputs": [],
   "source": [
    "sample_df['tpep_pickup_datetime'] = pd.to_datetime(sample_df['tpep_pickup_datetime'])\n",
    "sample_df['tpep_dropoff_datetime'] = pd.to_datetime(sample_df['tpep_dropoff_datetime'])\n",
    "\n",
    "# Extract features\n",
    "sample_df['pickup_hour'] = sample_df['tpep_pickup_datetime'].dt.hour\n",
    "sample_df['pickup_day'] = sample_df['tpep_pickup_datetime'].dt.dayofweek  # Monday=0, Sunday=6\n",
    "\n",
    "# Drop original datetime columns\n",
    "# data_frame.drop(columns=['tpep_pickup_datetime', 'tpep_dropoff_datetime'], inplace=True)\n"
   ]
  },
  {
   "cell_type": "markdown",
   "metadata": {},
   "source": [
    "After a quick look-through of our data, anomalies such as negative fares, total amounts etc were noted. We'll filter them out right away."
   ]
  },
  {
   "cell_type": "code",
   "execution_count": 7,
   "metadata": {},
   "outputs": [],
   "source": [
    "sample_df = sample_df[\n",
    "    (sample_df['fare_amount'] > 0) & \n",
    "    (sample_df['total_amount'] > 0) & \n",
    "    (sample_df['duration'] > 0)\n",
    "]\n"
   ]
  },
  {
   "cell_type": "markdown",
   "metadata": {},
   "source": [
    "DBSCAN (Density-Based Spatial Clustering of Applications with Noise)\n"
   ]
  },
  {
   "cell_type": "code",
   "execution_count": 8,
   "metadata": {},
   "outputs": [
    {
     "name": "stdout",
     "output_type": "stream",
     "text": [
      "Cluster distribution:\n",
      " Cluster\n",
      " 3     15138\n",
      " 2     14908\n",
      " 5     14682\n",
      " 0     14670\n",
      " 1     13870\n",
      " 4     12541\n",
      " 6     11757\n",
      "-1       455\n",
      " 10       43\n",
      " 11       14\n",
      " 12       14\n",
      " 16       13\n",
      " 13        9\n",
      " 9         7\n",
      " 17        7\n",
      " 15        6\n",
      " 7         6\n",
      " 8         4\n",
      " 22        4\n",
      " 14        4\n",
      " 21        4\n",
      " 19        4\n",
      " 28        4\n",
      " 18        4\n",
      " 27        4\n",
      " 24        4\n",
      " 25        4\n",
      " 20        4\n",
      " 23        4\n",
      " 26        3\n",
      "Name: count, dtype: int64\n"
     ]
    }
   ],
   "source": [
    "from sklearn.cluster import DBSCAN\n",
    "from sklearn.preprocessing import StandardScaler\n",
    "\n",
    "# Scale the data\n",
    "scaler = StandardScaler()\n",
    "features = ['trip_distance', 'fare_amount', 'pickup_hour', 'pickup_day', 'duration']\n",
    "scaled_data = scaler.fit_transform(sample_df[features])\n",
    "\n",
    "# Apply DBSCAN\n",
    "dbscan = DBSCAN(eps=0.5, min_samples=4)  # Adjust eps and min_samples as needed\n",
    "clusters = dbscan.fit_predict(scaled_data)\n",
    "\n",
    "# Add clusters to the DataFrame\n",
    "sample_df['Cluster'] = clusters\n",
    "\n",
    "# Check the number of clusters (noise is labeled as -1)\n",
    "print(\"Cluster distribution:\\n\", sample_df['Cluster'].value_counts())"
   ]
  },
  {
   "cell_type": "markdown",
   "metadata": {},
   "source": [
    "Visualizing Clusters\n"
   ]
  },
  {
   "cell_type": "code",
   "execution_count": 9,
   "metadata": {},
   "outputs": [
    {
     "data": {
      "image/png": "[encoded data removed]",
      "text/plain": [
       "<Figure size 640x480 with 2 Axes>"
      ]
     },
     "metadata": {},
     "output_type": "display_data"
    }
   ],
   "source": [
    "from sklearn.decomposition import PCA\n",
    "import matplotlib.pyplot as plt\n",
    "\n",
    "# Reduce data to 2D using PCA\n",
    "pca = PCA(n_components=2)\n",
    "pca_data = pca.fit_transform(scaled_data)\n",
    "\n",
    "# Plot clusters\n",
    "plt.scatter(pca_data[:, 0], pca_data[:, 1], c=clusters, cmap='viridis', s=10)\n",
    "plt.colorbar(label='Cluster')\n",
    "plt.xlabel('PCA Component 1')\n",
    "plt.ylabel('PCA Component 2')\n",
    "plt.title('DBSCAN Clusters (2D PCA)')\n",
    "plt.show()"
   ]
  }
 ],
 "metadata": {
  "kernelspec": {
   "display_name": "Python 3",
   "language": "python",
   "name": "python3"
  },
  "language_info": {
   "codemirror_mode": {
    "name": "ipython",
    "version": 3
   },
   "file_extension": ".py",
   "mimetype": "text/x-python",
   "name": "python",
   "nbconvert_exporter": "python",
   "pygments_lexer": "ipython3",
   "version": "3.13.1"
  }
 },
 "nbformat": 4,
 "nbformat_minor": 2
}
