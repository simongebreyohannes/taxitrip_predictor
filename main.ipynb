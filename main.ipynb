{
 "cells": [
  {
   "cell_type": "code",
   "execution_count": null,
   "metadata": {},
   "outputs": [],
   "source": [
    "#Objective: predicting the trip duration accurately"
   ]
  },
  {
   "cell_type": "markdown",
   "metadata": {},
   "source": [
    "Extract data we've been given and divide into reasonable chunks"
   ]
  },
  {
   "cell_type": "code",
   "execution_count": 5,
   "metadata": {},
   "outputs": [],
   "source": [
    "import pandas as pd\n",
    "\n",
    "chunk_size = 50000 \n",
    "file_path = 'training_dataset/training_dataset.csv'\n",
    "\n",
    "chunks = []\n",
    "\n",
    "for chunk in pd.read_csv(file_path, chunksize=chunk_size):\n",
    "    chunks.append(chunk)\n",
    "\n",
    "data_frame = pd.concat(chunks, ignore_index=True)\n"
   ]
  },
  {
   "cell_type": "markdown",
   "metadata": {},
   "source": [
    "Process the data. Remove whatever that's uncessary and check for missing values. Either remove the missing or replace them. \n",
    "\n",
    "But first, check what we're missing and working with."
   ]
  },
  {
   "cell_type": "code",
   "execution_count": 12,
   "metadata": {},
   "outputs": [
    {
     "name": "stdout",
     "output_type": "stream",
     "text": [
      "Number of missing values are:  ID                       0\n",
      "vendorid                 0\n",
      "tpep_pickup_datetime     0\n",
      "tpep_dropoff_datetime    0\n",
      "trip_distance            0\n",
      "pulocationid             0\n",
      "dolocationid             0\n",
      "payment_type             0\n",
      "fare_amount              0\n",
      "extra                    0\n",
      "mta_tax                  0\n",
      "tip_amount               0\n",
      "tolls_amount             0\n",
      "improvement_surcharge    0\n",
      "total_amount             0\n",
      "airport_fee              0\n",
      "duration                 0\n",
      "dtype: int64\n",
      "-------------------------------------------------\n",
      "<class 'pandas.core.frame.DataFrame'>\n",
      "RangeIndex: 32701098 entries, 0 to 32701097\n",
      "Data columns (total 17 columns):\n",
      " #   Column                 Dtype  \n",
      "---  ------                 -----  \n",
      " 0   ID                     object \n",
      " 1   vendorid               int64  \n",
      " 2   tpep_pickup_datetime   object \n",
      " 3   tpep_dropoff_datetime  object \n",
      " 4   trip_distance          float64\n",
      " 5   pulocationid           int64  \n",
      " 6   dolocationid           int64  \n",
      " 7   payment_type           int64  \n",
      " 8   fare_amount            float64\n",
      " 9   extra                  float64\n",
      " 10  mta_tax                float64\n",
      " 11  tip_amount             float64\n",
      " 12  tolls_amount           float64\n",
      " 13  improvement_surcharge  float64\n",
      " 14  total_amount           float64\n",
      " 15  airport_fee            float64\n",
      " 16  duration               float64\n",
      "dtypes: float64(10), int64(4), object(3)\n",
      "memory usage: 4.1+ GB\n",
      "None\n"
     ]
    }
   ],
   "source": [
    "# Check for missing values\n",
    "missing_values = data_frame.isnull().sum()\n",
    "print(\"Number of missing values are: \", missing_values) \n",
    "\n",
    "print(\"-------------------------------------------------\")\n",
    "\n",
    "# Show summary statistics\n",
    "print(data_frame.info())"
   ]
  },
  {
   "cell_type": "markdown",
   "metadata": {},
   "source": [
    "We're missing a lot of data from these columns: \n",
    "\n",
    "1. passenger_count          3155336\n",
    "\n",
    "2. ratecodeid               3155336\n",
    "\n",
    "3. store_and_fwd_flag       3155336\n",
    "\n",
    "4. congestion_surcharge     3155336\n",
    "\n",
    "5. airport_fee              3155336\n"
   ]
  },
  {
   "cell_type": "markdown",
   "metadata": {},
   "source": [
    "The first four columns are useless for the objective at hand. We'll drop them. \n",
    "\n",
    "Whilst we're at it we will remove all other columns that are not useful."
   ]
  },
  {
   "cell_type": "code",
   "execution_count": 14,
   "metadata": {},
   "outputs": [],
   "source": [
    "# YOUR CODE HERE\n",
    "data_frame.drop(columns=[\"ID\", \"airport_fee\", \"vendorid\", \"extra\", \"mta_tax\", \"tip_amount\", \"tolls_amount\", \n",
    "                         \"improvement_surcharge\", \"fare_amount\"], inplace=True)\n",
    "data_frame.fillna(0, inplace=True)\n"
   ]
  },
  {
   "cell_type": "markdown",
   "metadata": {},
   "source": [
    "Missing values have been addressed as well as useless columns. Now, we'll process the data that is relevant. "
   ]
  },
  {
   "cell_type": "code",
   "execution_count": 15,
   "metadata": {},
   "outputs": [
    {
     "name": "stdout",
     "output_type": "stream",
     "text": [
      "       trip_distance  pulocationid  dolocationid  payment_type  total_amount  \\\n",
      "count   3.270110e+07  3.270110e+07  3.270110e+07  3.270110e+07  3.270110e+07   \n",
      "mean    4.908534e+00  1.642556e+02  1.634615e+02  1.110001e+00  2.785063e+01   \n",
      "std     4.088654e+02  6.433638e+01  6.960137e+01  6.450934e-01  8.670093e+01   \n",
      "min     0.000000e+00  1.000000e+00  1.000000e+00  0.000000e+00 -2.265450e+03   \n",
      "25%     1.020000e+00  1.320000e+02  1.130000e+02  1.000000e+00  1.575000e+01   \n",
      "50%     1.760000e+00  1.610000e+02  1.620000e+02  1.000000e+00  2.100000e+01   \n",
      "75%     3.360000e+00  2.330000e+02  2.340000e+02  1.000000e+00  3.050000e+01   \n",
      "max     3.986086e+05  2.650000e+02  2.650000e+02  5.000000e+00  3.355509e+05   \n",
      "\n",
      "           duration  \n",
      "count  3.270110e+07  \n",
      "mean   1.045067e+03  \n",
      "std    2.081190e+03  \n",
      "min    0.000000e+00  \n",
      "25%    4.690000e+02  \n",
      "50%    7.770000e+02  \n",
      "75%    1.261000e+03  \n",
      "max    5.854240e+05  \n"
     ]
    }
   ],
   "source": [
    "print(data_frame.describe())"
   ]
  }
 ],
 "metadata": {
  "kernelspec": {
   "display_name": "Python 3",
   "language": "python",
   "name": "python3"
  },
  "language_info": {
   "codemirror_mode": {
    "name": "ipython",
    "version": 3
   },
   "file_extension": ".py",
   "mimetype": "text/x-python",
   "name": "python",
   "nbconvert_exporter": "python",
   "pygments_lexer": "ipython3",
   "version": "3.13.1"
  }
 },
 "nbformat": 4,
 "nbformat_minor": 2
}
